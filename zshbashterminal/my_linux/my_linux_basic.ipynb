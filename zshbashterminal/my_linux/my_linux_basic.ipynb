{
 "cells": [
  {
   "cell_type": "code",
   "execution_count": null,
   "metadata": {},
   "outputs": [],
   "source": []
  },
  {
   "cell_type": "markdown",
   "metadata": {},
   "source": [
    "control + D: stop the terminal\n",
    "exit: stop the terminal"
   ]
  },
  {
   "cell_type": "markdown",
   "metadata": {},
   "source": [
    "### shortcut"
   ]
  },
  {
   "cell_type": "code",
   "execution_count": null,
   "metadata": {},
   "outputs": [],
   "source": [
    "# control + A: move to the start of a line \n",
    "# control + E: move to the end of a line \n",
    "# control + U: delete all the thing before and cursor \n",
    "# control + C: kill the current running process on the terminal \n",
    "# control + Z: stop the current running process on the terminal\n",
    "\n",
    "# bg %1\n",
    "# to resume the process stopped by control + Z"
   ]
  },
  {
   "cell_type": "markdown",
   "metadata": {},
   "source": [
    "### Command History"
   ]
  },
  {
   "cell_type": "code",
   "execution_count": null,
   "metadata": {},
   "outputs": [],
   "source": [
    "# cat .bash_history\n",
    "# cat. zsh_history\n",
    "# this will only be updated when user log in again\n",
    "\n",
    "# evn var to control the size of history command will be preserved\n",
    "# echo $HISTFILESIZE\n",
    "\n",
    "# to see the command history\n",
    "# history\n",
    "# this may not include all the content from the history files\n",
    "\n",
    "# env var to control how many to show when run command history\n",
    "# echo $HISTSIZE\n",
    "\n",
    "# re-run certain command in the history\n",
    "# !17\n",
    "\n",
    "# re-run the last command in the history\n",
    "# !!\n",
    "\n",
    "# re-run support \n",
    "# !-7\n",
    "\n",
    "# match a command and run it\n",
    "# !ping:p\n",
    "# will match the last ping command and run directly if without the :p\n",
    "# but could be dangerous as you dont know which command you are doing\n",
    "# the :p will should you the command first and you decided whether to run\n",
    "\n"
   ]
  },
  {
   "cell_type": "markdown",
   "metadata": {},
   "source": []
  }
 ],
 "metadata": {
  "language_info": {
   "name": "python"
  }
 },
 "nbformat": 4,
 "nbformat_minor": 2
}

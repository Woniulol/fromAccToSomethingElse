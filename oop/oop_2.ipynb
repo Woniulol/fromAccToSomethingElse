{
 "cells": [
  {
   "cell_type": "code",
   "execution_count": 5,
   "metadata": {},
   "outputs": [
    {
     "name": "stdout",
     "output_type": "stream",
     "text": [
      "(<class '__main__.Animal'>, <class '__main__.xxx'>)\n",
      "(<class 'object'>,)\n"
     ]
    }
   ],
   "source": [
    "# 单继承和多继承\n",
    "\n",
    "class Animal:\n",
    "    pass\n",
    "\n",
    "class xxx:\n",
    "    pass\n",
    "\n",
    "class Dog(Animal, xxx):\n",
    "    pass\n",
    "\n",
    "print(Dog.__bases__)\n",
    "print(Animal.__bases__)\n"
   ]
  },
  {
   "cell_type": "code",
   "execution_count": null,
   "metadata": {},
   "outputs": [],
   "source": [
    "# class object 到底是个啥\n",
    "# 很多属性和资源相关的继承都是来自这个object"
   ]
  },
  {
   "cell_type": "code",
   "execution_count": 6,
   "metadata": {},
   "outputs": [
    {
     "data": {
      "text/plain": [
       "(object,)"
      ]
     },
     "execution_count": 6,
     "metadata": {},
     "output_type": "execute_result"
    }
   ],
   "source": [
    "print(int.__bases__)\n",
    "print(float.__bases__)\n",
    "print(bool.__bases__)\n"
   ]
  },
  {
   "cell_type": "code",
   "execution_count": 10,
   "metadata": {},
   "outputs": [
    {
     "name": "stdout",
     "output_type": "stream",
     "text": [
      "<class 'type'>\n",
      "()\n",
      "<class 'type'>\n",
      "(<class 'object'>,)\n"
     ]
    }
   ],
   "source": [
    "# related to type\n",
    "# type 通过实例化 创建了 后面的各种类（实例）(包括它自己和object类)\n",
    "# object 也是一个类对象 其他被type 创建的各种类（实例）都会继承自object（包括它自己和type）\n",
    "\n",
    "print(object.__class__)\n",
    "print(object.__bases__)\n",
    "print(type.__class__)\n",
    "print(type.__bases__)"
   ]
  },
  {
   "cell_type": "code",
   "execution_count": 18,
   "metadata": {},
   "outputs": [
    {
     "name": "stdout",
     "output_type": "stream",
     "text": [
      "init, Animal\n",
      "1\n",
      "2\n",
      "init, Animal\n"
     ]
    }
   ],
   "source": [
    "class Animal:\n",
    "    # 资源值的就是属性和方法\n",
    "    # 设置不同权限的属性和方法，在子类中进行测试，看在子类中能否访问到这些资源\n",
    "    a = 1\n",
    "    _b = 2\n",
    "    __c = 3\n",
    "\n",
    "    def t1(self):\n",
    "        print(\"t1\")\n",
    "\n",
    "    def _t2(self):\n",
    "        print(\"t2\")\n",
    "\n",
    "    def __t3(self):\n",
    "        print(\"t3\")\n",
    "    \n",
    "    def __init__(self) -> None:\n",
    "        print(\"init, Animal\")\n",
    "\n",
    "class Person(Animal):\n",
    "    def test(self):\n",
    "        print(self.a)\n",
    "        print(self._b)\n",
    "        # print(self.__c)\n",
    "        self.t1\n",
    "        self._t2\n",
    "        # self.__t3\n",
    "        self.__init__()\n",
    "\n",
    "p = Person()\n",
    "p.test()"
   ]
  },
  {
   "cell_type": "code",
   "execution_count": 20,
   "metadata": {},
   "outputs": [
    {
     "name": "stdout",
     "output_type": "stream",
     "text": [
      "10\n",
      "10\n",
      "9\n"
     ]
    }
   ],
   "source": [
    "class B:\n",
    "    age = 10\n",
    "\n",
    "class A(B):\n",
    "    pass\n",
    "\n",
    "print(A.age) \n",
    "A.age = 9\n",
    "print(B.age)\n",
    "print(A.age)"
   ]
  },
  {
   "cell_type": "code",
   "execution_count": 21,
   "metadata": {},
   "outputs": [
    {
     "data": {
      "text/plain": [
       "(__main__.A, __main__.B, object)"
      ]
     },
     "execution_count": 21,
     "metadata": {},
     "output_type": "execute_result"
    }
   ],
   "source": [
    "import inspect\n",
    "inspect.getmro(A)"
   ]
  },
  {
   "cell_type": "code",
   "execution_count": 22,
   "metadata": {},
   "outputs": [
    {
     "data": {
      "text/plain": [
       "(__main__.A, __main__.B, __main__.D, __main__.C, __main__.E, object)"
      ]
     },
     "execution_count": 22,
     "metadata": {},
     "output_type": "execute_result"
    }
   ],
   "source": [
    "import inspect\n",
    "\n",
    "class D:\n",
    "    pass\n",
    "\n",
    "class E:\n",
    "    pass\n",
    "\n",
    "class B(D):\n",
    "    pass\n",
    "\n",
    "class C(E):\n",
    "    pass\n",
    "\n",
    "class A(B, C):\n",
    "    pass\n",
    "\n",
    "inspect.getmro(A)"
   ]
  },
  {
   "cell_type": "code",
   "execution_count": null,
   "metadata": {},
   "outputs": [],
   "source": [
    "# C3\n",
    "# e.g. C3 算法\n",
    "# L( D( object ) ) = [ D ] + merge( L( object ), [ object ] )\n",
    "# = [ D ] + merge( [ object ], [ object ] )\n",
    "# = [ D, object] + merge( [ ], [ ] )\n",
    "# = [ D, object ]\n",
    "\n",
    "# L( B( D ) ) = [ B ] + merge( L( D ), [ D ] )\n",
    "# = [ B ] + merge( [ D, object ], [ D ]  )\n",
    "# = [ B, D ] + merge( [ object ], [ ] )\n",
    "# = [ B, D, object ]\n",
    "\n",
    "# L( C( D ) ) = [ C ] + merge( L( D ), [ D ] )\n",
    "# = [ C ] + merge( [ D, object ], [ D ]  )\n",
    "# = [ C, D ] + merge( [ object ], [ ] )\n",
    "# = [ C, D, object ]\n",
    "\n",
    "# L( A( B, C ) ) = [ A ] + merge( L( B ), L( C ), [ B, C ] )\n",
    "# = [ A ] + merge( [ B, D, object ], [ C, D, object ], [ B, C ] )\n",
    "# = [ A, B ] + merge( [ D, object ], [ C, D, object ], [ C ] )\n",
    "# * 此时D作为第一个merge第一个列表的第一个元素，不是任意后续列表的第一个元素，且在后续列表中确实出现过，所以跳过该元素D\n",
    "# * 查找下一个列表的第一个元素\n",
    "# = [ A, B, C ] + merge( [ D, object ], [ D, object ] )\n",
    "# = [ A, B, C, D, object]"
   ]
  },
  {
   "cell_type": "code",
   "execution_count": 24,
   "metadata": {},
   "outputs": [
    {
     "ename": "TypeError",
     "evalue": "Cannot create a consistent method resolution\norder (MRO) for bases B, C",
     "output_type": "error",
     "traceback": [
      "\u001b[0;31m---------------------------------------------------------------------------\u001b[0m",
      "\u001b[0;31mTypeError\u001b[0m                                 Traceback (most recent call last)",
      "\u001b[1;32m/Users/jiananwang/pycharm_projects/oop/oop_2.ipynb Cell 10\u001b[0m line \u001b[0;36m1\n\u001b[1;32m      <a href='vscode-notebook-cell:/Users/jiananwang/pycharm_projects/oop/oop_2.ipynb#X11sZmlsZQ%3D%3D?line=6'>7</a>\u001b[0m \u001b[39mclass\u001b[39;00m \u001b[39mC\u001b[39;00m(B):\n\u001b[1;32m      <a href='vscode-notebook-cell:/Users/jiananwang/pycharm_projects/oop/oop_2.ipynb#X11sZmlsZQ%3D%3D?line=7'>8</a>\u001b[0m \t\u001b[39mpass\u001b[39;00m\n\u001b[0;32m---> <a href='vscode-notebook-cell:/Users/jiananwang/pycharm_projects/oop/oop_2.ipynb#X11sZmlsZQ%3D%3D?line=9'>10</a>\u001b[0m \u001b[39mclass\u001b[39;00m \u001b[39mA\u001b[39;00m(B, C):\n\u001b[1;32m     <a href='vscode-notebook-cell:/Users/jiananwang/pycharm_projects/oop/oop_2.ipynb#X11sZmlsZQ%3D%3D?line=10'>11</a>\u001b[0m \t\u001b[39mpass\u001b[39;00m\n\u001b[1;32m     <a href='vscode-notebook-cell:/Users/jiananwang/pycharm_projects/oop/oop_2.ipynb#X11sZmlsZQ%3D%3D?line=12'>13</a>\u001b[0m \u001b[39m# 使用C3算法检验该继承的问题\u001b[39;00m\n\u001b[1;32m     <a href='vscode-notebook-cell:/Users/jiananwang/pycharm_projects/oop/oop_2.ipynb#X11sZmlsZQ%3D%3D?line=13'>14</a>\u001b[0m \u001b[39m# L(D) = [D, object]\u001b[39;00m\n\u001b[1;32m     <a href='vscode-notebook-cell:/Users/jiananwang/pycharm_projects/oop/oop_2.ipynb#X11sZmlsZQ%3D%3D?line=14'>15</a>\u001b[0m \u001b[39m# L(B(D)) = [B, D, object]\u001b[39;00m\n\u001b[0;32m   (...)\u001b[0m\n\u001b[1;32m     <a href='vscode-notebook-cell:/Users/jiananwang/pycharm_projects/oop/oop_2.ipynb#X11sZmlsZQ%3D%3D?line=19'>20</a>\u001b[0m \u001b[39m# B，在前面出现过且不是首元素\u001b[39;00m\n\u001b[1;32m     <a href='vscode-notebook-cell:/Users/jiananwang/pycharm_projects/oop/oop_2.ipynb#X11sZmlsZQ%3D%3D?line=20'>21</a>\u001b[0m \u001b[39m# 出问题\u001b[39;00m\n",
      "\u001b[0;31mTypeError\u001b[0m: Cannot create a consistent method resolution\norder (MRO) for bases B, C"
     ]
    }
   ],
   "source": [
    "class D(object):\n",
    "\tpass\n",
    "  \n",
    "class B(D):\n",
    "\tpass\n",
    "  \n",
    "class C(B):\n",
    "\tpass\n",
    "  \n",
    "class A(B, C):\n",
    "\tpass\n",
    "  \n",
    "# 使用C3算法检验该继承的问题\n",
    "# L(D) = [D, object]\n",
    "# L(B(D)) = [B, D, object]\n",
    "# L(C(B)) = [C, B, D, object]\n",
    "# L(A(B, C)) = [A] + merge([B, D, object], [C, B, D, object], [B, C])\n",
    "# B不是后续所有列表的首元素，且又出现过，跳过，找下一个列表的首元素C\n",
    "# C不是后续所有列表的首元素，且又出现过，跳过，找下一个列表的首元素B\n",
    "# B，在前面出现过且不是首元素\n",
    "# 出问题"
   ]
  },
  {
   "cell_type": "code",
   "execution_count": 33,
   "metadata": {},
   "outputs": [
    {
     "name": "stdout",
     "output_type": "stream",
     "text": [
      "[<class '__main__.A'>, <class '__main__.B'>, <class '__main__.C'>, <class '__main__.D'>, <class 'object'>]\n",
      "b\n",
      "method b\n",
      "None\n"
     ]
    }
   ],
   "source": [
    "class D(object):\n",
    "    age = 'd'\n",
    "\n",
    "class C(D):\n",
    "    age = 'c'\n",
    "    def test(self):\n",
    "        print('method c')\n",
    "\n",
    "class B(D):\n",
    "    age = 'b'\n",
    "    def test(self):\n",
    "        print('method b') \n",
    "\n",
    "class A(B, C):\n",
    "    pass\n",
    "\n",
    "print(A.mro())\n",
    "print(A.age)\n",
    "print(A().test())"
   ]
  },
  {
   "cell_type": "code",
   "execution_count": 36,
   "metadata": {},
   "outputs": [
    {
     "name": "stdout",
     "output_type": "stream",
     "text": [
      "instance method b <__main__.A object at 0x1039a3a60>\n",
      "class method b <class '__main__.A'>\n"
     ]
    }
   ],
   "source": [
    "class D(object):\n",
    "    age = 'd'\n",
    "\n",
    "class C(D):\n",
    "    age = 'c'\n",
    "    def test(self):\n",
    "        print('method c', self)\n",
    "    \n",
    "class B(D):\n",
    "    age = 'b'\n",
    "    def test(self):\n",
    "        print('instance method b', self)\n",
    "\n",
    "    @classmethod\n",
    "    def test2(cls):\n",
    "        print('class method b', cls) \n",
    "\n",
    "class A(B, C):\n",
    "    pass\n",
    "\n",
    "A().test()\n",
    "A.test2()\n"
   ]
  },
  {
   "cell_type": "code",
   "execution_count": 47,
   "metadata": {},
   "outputs": [
    {
     "name": "stdout",
     "output_type": "stream",
     "text": [
      "{'b': 2}\n",
      "1\n",
      "2\n",
      "t1\n",
      "t2\n",
      "t3\n",
      "3\n",
      "tt1\n",
      "tt2\n",
      "tt3\n"
     ]
    }
   ],
   "source": [
    "# 资源的累加\n",
    "class B:\n",
    "    a = 1\n",
    "    def __init__(self) -> None:\n",
    "        self.b = 2\n",
    "    \n",
    "    def t1(self):\n",
    "        print('t1')\n",
    "    \n",
    "    @classmethod\n",
    "    def t2(cls):\n",
    "        print('t2')\n",
    "    \n",
    "    @staticmethod\n",
    "    def t3():\n",
    "        print('t3')\n",
    "\n",
    "class A(B):\n",
    "    c = 3\n",
    "    def tt1(self):\n",
    "        print('tt1')\n",
    "    \n",
    "    @classmethod\n",
    "    def tt2(cls):\n",
    "        print('tt2')\n",
    "    \n",
    "    @staticmethod\n",
    "    def tt3():\n",
    "        print('tt3')\n",
    "\n",
    "a_object = A()\n",
    "print(a_object.__dict__)\n",
    "print(a_object.a)\n",
    "print(a_object.b)  \n",
    "# 这个b其实是a_object自己的，本质上是在创建的时候调用了B的__init__方法\n",
    "# 又因为谁调用传过来的就是谁，相当于调用__init__(a_object)\n",
    "# 现在有两份b\n",
    "\n",
    "a_object.t1()\n",
    "A.t2()\n",
    "A.t3()\n",
    "# 都可以调\n",
    "\n",
    "print(a_object.c)\n",
    "a_object.tt1()\n",
    "A.tt2()\n",
    "A.tt3()\n"
   ]
  },
  {
   "cell_type": "code",
   "execution_count": 50,
   "metadata": {},
   "outputs": [
    {
     "name": "stdout",
     "output_type": "stream",
     "text": [
      "{'e': 'xxx'}\n",
      "1\n",
      "xxx\n",
      "t1\n",
      "t2\n",
      "t3\n",
      "3\n",
      "tt1\n",
      "tt2\n",
      "tt3\n"
     ]
    }
   ],
   "source": [
    "# 资源的累加\n",
    "class B:\n",
    "    a = 1\n",
    "    def __init__(self) -> None:\n",
    "        self.b = 2\n",
    "    \n",
    "    def t1(self):\n",
    "        print('t1')\n",
    "    \n",
    "    @classmethod\n",
    "    def t2(cls):\n",
    "        print('t2')\n",
    "    \n",
    "    @staticmethod\n",
    "    def t3():\n",
    "        print('t3')\n",
    "\n",
    "class A(B):\n",
    "    c = 3\n",
    "    # 给A添加自己的__init__方法\n",
    "    def __init__(self) -> None:\n",
    "        self.e = 'xxx'\n",
    "\n",
    "    def tt1(self):\n",
    "        print('tt1')\n",
    "    \n",
    "    @classmethod\n",
    "    def tt2(cls):\n",
    "        print('tt2')\n",
    "    \n",
    "    @staticmethod\n",
    "    def tt3():\n",
    "        print('tt3')\n",
    "\n",
    "a_object = A()\n",
    "print(a_object.__dict__)\n",
    "print(a_object.a)\n",
    "# print(a_object.b)  \n",
    "# 给A自己的__init__方法之后就没发调用父类的__init__去创建b了\n",
    "print(a_object.e)\n",
    "\n",
    "a_object.t1()\n",
    "A.t2()\n",
    "A.t3()\n",
    "# 都可以调\n",
    "\n",
    "print(a_object.c)\n",
    "a_object.tt1()\n",
    "A.tt2()\n",
    "A.tt3()\n"
   ]
  },
  {
   "cell_type": "code",
   "execution_count": 53,
   "metadata": {},
   "outputs": [
    {
     "name": "stdout",
     "output_type": "stream",
     "text": [
      "{'b': 2, 'd': 'xxx'}\n",
      "1\n",
      "2\n",
      "3\n",
      "xxx\n"
     ]
    }
   ],
   "source": [
    "# 现在的问题就是如何在父类__init__的基础上额外增加子类__init__的内容\n",
    "# 资源的累加\n",
    "class B:\n",
    "    a = 1\n",
    "    def __init__(self) -> None:\n",
    "        self.b = 2\n",
    "\n",
    "class A(B):\n",
    "    c = 3\n",
    "    # 给A添加自己的__init__方法\n",
    "    def __init__(self) -> None:\n",
    "        B.__init__(self)\n",
    "        self.d = 'xxx'\n",
    "\n",
    "\n",
    "a = A()\n",
    "print(a.__dict__)\n",
    "print(a.a)\n",
    "print(a.b)\n",
    "print(a.c)\n",
    "print(a.d)\n"
   ]
  },
  {
   "cell_type": "code",
   "execution_count": 57,
   "metadata": {},
   "outputs": [
    {
     "name": "stdout",
     "output_type": "stream",
     "text": [
      "{'b': 2, 'd': 'xxx'}\n",
      "1\n",
      "2\n",
      "3\n",
      "xxx\n"
     ]
    }
   ],
   "source": [
    "# super\n",
    "class B:\n",
    "    a = 1\n",
    "    def __init__(self) -> None:\n",
    "        self.b = 2\n",
    "\n",
    "class A(B):\n",
    "    c = 3\n",
    "    # 给A添加自己的__init__方法\n",
    "    def __init__(self) -> None:\n",
    "        super(A, self).__init__()\n",
    "        # 第一个参数必须是cls\n",
    "        # 必须保证第二个参数的MRO链条上有第一个参数的类\n",
    "        # 第二个参数是cls还是instance取决于最终想调用的是实例方法还是类方法\n",
    "        # 这里__init__是实例方法，所以传递的是一个A实例\n",
    "        self.d = 'xxx'\n",
    "\n",
    "\n",
    "a = A()\n",
    "print(a.__dict__)\n",
    "print(a.a)\n",
    "print(a.b)\n",
    "print(a.c)\n",
    "print(a.d)"
   ]
  },
  {
   "cell_type": "code",
   "execution_count": 60,
   "metadata": {},
   "outputs": [
    {
     "name": "stdout",
     "output_type": "stream",
     "text": [
      "{'b': 2, 'd': 'xxx'}\n",
      "1\n",
      "2\n",
      "3\n",
      "xxx\n"
     ]
    }
   ],
   "source": [
    "# super\n",
    "class B:\n",
    "    a = 1\n",
    "    def __init__(self) -> None:\n",
    "        self.b = 2\n",
    "\n",
    "class A(B):\n",
    "    c = 3\n",
    "    # 给A添加自己的__init__方法\n",
    "    def __init__(self) -> None:\n",
    "        super().__init__()\n",
    "        # 在python3中，你可以什么都不传，让python自己识别上下文\n",
    "        self.d = 'xxx'\n",
    "\n",
    "\n",
    "a = A()\n",
    "print(a.__dict__)\n",
    "print(a.a)\n",
    "print(a.b)\n",
    "print(a.c)\n",
    "print(a.d)"
   ]
  },
  {
   "cell_type": "code",
   "execution_count": 63,
   "metadata": {},
   "outputs": [
    {
     "name": "stdout",
     "output_type": "stream",
     "text": [
      "wangwangwang\n",
      "miaomiaomiao\n"
     ]
    }
   ],
   "source": [
    "class Animal(object):\n",
    "    def jiao(self):\n",
    "        pass\n",
    "\n",
    "class Dog(Animal):\n",
    "    def jiao(self):\n",
    "        print('wangwangwang')\n",
    "\n",
    "class Cat(Animal):\n",
    "    def jiao(self):\n",
    "        print('miaomiaomiao')\n",
    "\n",
    "def test(obj):\n",
    "    obj.jiao()\n",
    "\n",
    "d = Dog()\n",
    "c = Cat()\n",
    "\n",
    "test(d)\n",
    "test(c)\n"
   ]
  },
  {
   "cell_type": "code",
   "execution_count": 64,
   "metadata": {},
   "outputs": [
    {
     "data": {
      "text/plain": [
       "'ab'"
      ]
     },
     "execution_count": 64,
     "metadata": {},
     "output_type": "execute_result"
    }
   ],
   "source": [
    "def jia(a: int, b: int):\n",
    "    return a + b\n",
    "\n",
    "jia('a', 'b')"
   ]
  },
  {
   "cell_type": "code",
   "execution_count": 69,
   "metadata": {},
   "outputs": [
    {
     "ename": "TypeError",
     "evalue": "Can't instantiate abstract class Animal with abstract method jiao",
     "output_type": "error",
     "traceback": [
      "\u001b[0;31m---------------------------------------------------------------------------\u001b[0m",
      "\u001b[0;31mTypeError\u001b[0m                                 Traceback (most recent call last)",
      "\u001b[1;32m/Users/jiananwang/pycharm_projects/oop/oop_2.ipynb Cell 20\u001b[0m line \u001b[0;36m2\n\u001b[1;32m     <a href='vscode-notebook-cell:/Users/jiananwang/pycharm_projects/oop/oop_2.ipynb#X25sZmlsZQ%3D%3D?line=16'>17</a>\u001b[0m \u001b[39mdef\u001b[39;00m \u001b[39mtest\u001b[39m(obj):\n\u001b[1;32m     <a href='vscode-notebook-cell:/Users/jiananwang/pycharm_projects/oop/oop_2.ipynb#X25sZmlsZQ%3D%3D?line=17'>18</a>\u001b[0m     obj\u001b[39m.\u001b[39mjiao()\n\u001b[0;32m---> <a href='vscode-notebook-cell:/Users/jiananwang/pycharm_projects/oop/oop_2.ipynb#X25sZmlsZQ%3D%3D?line=19'>20</a>\u001b[0m a \u001b[39m=\u001b[39m Animal()\n",
      "\u001b[0;31mTypeError\u001b[0m: Can't instantiate abstract class Animal with abstract method jiao"
     ]
    }
   ],
   "source": [
    "import abc\n",
    "\n",
    "class Animal(object, metaclass = abc.ABCMeta):\n",
    "    @abc.abstractmethod\n",
    "    def jiao(self):\n",
    "        pass\n",
    "\n",
    "class Dog(Animal):\n",
    "    def jiao(self):\n",
    "        print('wangwangwang')\n",
    "    pass\n",
    "\n",
    "class Cat(Animal):\n",
    "    def jiao(self):\n",
    "        print('miaomiaomiao')\n",
    "\n",
    "def test(obj):\n",
    "    obj.jiao()\n",
    "\n",
    "a = Animal()"
   ]
  }
 ],
 "metadata": {
  "kernelspec": {
   "display_name": "Python 3",
   "language": "python",
   "name": "python3"
  },
  "language_info": {
   "codemirror_mode": {
    "name": "ipython",
    "version": 3
   },
   "file_extension": ".py",
   "mimetype": "text/x-python",
   "name": "python",
   "nbconvert_exporter": "python",
   "pygments_lexer": "ipython3",
   "version": "3.10.0"
  }
 },
 "nbformat": 4,
 "nbformat_minor": 2
}

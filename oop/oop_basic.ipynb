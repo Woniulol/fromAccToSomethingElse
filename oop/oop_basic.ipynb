{
 "cells": [
  {
   "cell_type": "code",
   "execution_count": 2,
   "id": "21bae807",
   "metadata": {},
   "outputs": [],
   "source": [
    "# define a class\n",
    "class Person:\n",
    "    pass"
   ]
  },
  {
   "cell_type": "code",
   "execution_count": 4,
   "id": "8b7ccc3b",
   "metadata": {},
   "outputs": [
    {
     "name": "stdout",
     "output_type": "stream",
     "text": [
      "4571465712\n",
      "Person has been replaced\n",
      "4576496336\n",
      "<class '__main__.Person'>\n"
     ]
    }
   ],
   "source": [
    "# Perosn is a class name and also a variable name\n",
    "print(id(Person))\n",
    "\n",
    "p1 = Person()\n",
    "Person = \"Person has been replaced\"\n",
    "\n",
    "print(Person)\n",
    "print(id(Person))\n",
    "print(p1.__class__)\n",
    "\n",
    "class Person:\n",
    "    pass"
   ]
  },
  {
   "cell_type": "code",
   "execution_count": 5,
   "id": "43305639",
   "metadata": {},
   "outputs": [
    {
     "name": "stdout",
     "output_type": "stream",
     "text": [
      "4368433936\n",
      "4368433936\n",
      "4576408064\n",
      "4576408768\n",
      "---\n",
      "4368434000\n",
      "4368433936\n",
      "4576408064\n",
      "4576408768\n"
     ]
    }
   ],
   "source": [
    "# set object attribute\n",
    "p = Person()\n",
    "p.age = 18\n",
    "p.list = [1, 2]\n",
    "test = 18\n",
    "test_list = [1, 2]\n",
    "\n",
    "print(id(p.age))\n",
    "print(id(test))\n",
    "print(id(p.list))\n",
    "print(id(test_list))\n",
    "print('---')\n",
    "\n",
    "p.age = 20\n",
    "p.list.append(3)\n",
    "print(id(p.age))\n",
    "print(id(test))\n",
    "print(id(p.list))\n",
    "print(id(test_list))"
   ]
  },
  {
   "cell_type": "code",
   "execution_count": 6,
   "id": "efb4b7ef",
   "metadata": {},
   "outputs": [],
   "source": [
    "# set class attribute\n",
    "class Person:\n",
    "    age = 20\n",
    "    count = 1\n",
    "    num = 666\n",
    "\n",
    "Person.count = 1"
   ]
  },
  {
   "cell_type": "code",
   "execution_count": 9,
   "id": "7ead44ce",
   "metadata": {},
   "outputs": [
    {
     "name": "stdout",
     "output_type": "stream",
     "text": [
      "{'age': 20, 'list': [1, 2, 3]}\n",
      "{'__module__': '__main__', 'age': 20, 'count': 1, 'num': 666, '__dict__': <attribute '__dict__' of 'Person' objects>, '__weakref__': <attribute '__weakref__' of 'Person' objects>, '__doc__': None}\n"
     ]
    }
   ],
   "source": [
    "# __dict__\n",
    "print(p.__dict__)\n",
    "print(Person.__dict__)"
   ]
  },
  {
   "cell_type": "code",
   "execution_count": 59,
   "id": "56f1229a",
   "metadata": {},
   "outputs": [
    {
     "name": "stdout",
     "output_type": "stream",
     "text": [
      "20\n",
      "10\n",
      "30\n"
     ]
    }
   ],
   "source": [
    "# add attrributes by modifying the object __dict__\n",
    "class Person:\n",
    "    pass\n",
    "\n",
    "p = Person()\n",
    "p.__dict__ = {'age': 20, 'height': 10}\n",
    "p.__dict__['count'] = 30\n",
    "print(p.age)\n",
    "print(p.height)\n",
    "print(p.count)\n",
    "# but not avavilable for class.__dict__"
   ]
  },
  {
   "cell_type": "code",
   "execution_count": 63,
   "id": "05f103a4",
   "metadata": {},
   "outputs": [
    {
     "name": "stdout",
     "output_type": "stream",
     "text": [
      "{'age': 20, 'height': 10, 'count': 30, 'run': <function run at 0x107590e50>}\n",
      "<function run at 0x107590e50>\n"
     ]
    }
   ],
   "source": [
    "# __dict__ is just a dict that stores many key-value paries\n",
    "def run():\n",
    "    print(\"run\")\n",
    "\n",
    "p.__dict__['run'] = run\n",
    "print(p.__dict__)\n",
    "print(p.run)"
   ]
  },
  {
   "cell_type": "code",
   "execution_count": 10,
   "id": "de243e13",
   "metadata": {},
   "outputs": [
    {
     "name": "stdout",
     "output_type": "stream",
     "text": [
      "666\n",
      "777\n"
     ]
    }
   ],
   "source": [
    "# an object can get class attribute through __class__\n",
    "p = Person()\n",
    "print(p.num)\n",
    "\n",
    "# to further prove that, try modify __class__\n",
    "class Person_temp:\n",
    "    num = 777\n",
    "\n",
    "p.__class__ = Person_temp\n",
    "print(p.num)"
   ]
  },
  {
   "cell_type": "code",
   "execution_count": 54,
   "id": "578bd95d",
   "metadata": {},
   "outputs": [
    {
     "ename": "AttributeError",
     "evalue": "type object 'Person' has no attribute 'count'",
     "output_type": "error",
     "traceback": [
      "\u001b[0;31m---------------------------------------------------------------------------\u001b[0m",
      "\u001b[0;31mAttributeError\u001b[0m                            Traceback (most recent call last)",
      "Cell \u001b[0;32mIn [54], line 7\u001b[0m\n\u001b[1;32m      5\u001b[0m p \u001b[38;5;241m=\u001b[39m Person()\n\u001b[1;32m      6\u001b[0m p\u001b[38;5;241m.\u001b[39mcout \u001b[38;5;241m=\u001b[39m \u001b[38;5;241m10\u001b[39m\n\u001b[0;32m----> 7\u001b[0m \u001b[38;5;28mprint\u001b[39m(\u001b[43mPerson\u001b[49m\u001b[38;5;241;43m.\u001b[39;49m\u001b[43mcount\u001b[49m)\n\u001b[1;32m      8\u001b[0m \u001b[38;5;66;03m# you are effectively adding or modifying the object attribute\u001b[39;00m\n",
      "\u001b[0;31mAttributeError\u001b[0m: type object 'Person' has no attribute 'count'"
     ]
    }
   ],
   "source": [
    "# you can get the class attribute but cannot modify it through an object\n",
    "class Person:\n",
    "    pass\n",
    "\n",
    "p = Person()\n",
    "p.cout = 10\n",
    "print(Person.count)\n",
    "# you are effectively adding or modifying the object attribute"
   ]
  },
  {
   "cell_type": "code",
   "execution_count": 66,
   "id": "42529585",
   "metadata": {},
   "outputs": [
    {
     "ename": "AttributeError",
     "evalue": "'Person' object attribute 'num' is read-only",
     "output_type": "error",
     "traceback": [
      "\u001b[0;31m---------------------------------------------------------------------------\u001b[0m",
      "\u001b[0;31mAttributeError\u001b[0m                            Traceback (most recent call last)",
      "Cell \u001b[0;32mIn [66], line 10\u001b[0m\n\u001b[1;32m      8\u001b[0m p1 \u001b[38;5;241m=\u001b[39m Person()\n\u001b[1;32m      9\u001b[0m p1\u001b[38;5;241m.\u001b[39mage \u001b[38;5;241m=\u001b[39m \u001b[38;5;241m10\u001b[39m\n\u001b[0;32m---> 10\u001b[0m \u001b[43mp1\u001b[49m\u001b[38;5;241;43m.\u001b[39;49m\u001b[43mnum\u001b[49m \u001b[38;5;241m=\u001b[39m \u001b[38;5;241m2\u001b[39m\n",
      "\u001b[0;31mAttributeError\u001b[0m: 'Person' object attribute 'num' is read-only"
     ]
    }
   ],
   "source": [
    "# __slots__ restrict what attribute can be created \n",
    "class Person:\n",
    "    num = 10\n",
    "    __slots__ = ['age']\n",
    "    pass\n",
    "\n",
    "\n",
    "p1 = Person()\n",
    "p1.age = 10\n",
    "p1.num = 2"
   ]
  },
  {
   "cell_type": "code",
   "execution_count": 71,
   "id": "2b2d7ac6",
   "metadata": {},
   "outputs": [
    {
     "name": "stdout",
     "output_type": "stream",
     "text": [
      "<__main__.Person object at 0x1100ce5c0>\n",
      "this is a object method <__main__.Person object at 0x1100ce5c0>\n",
      "this is a class method <class '__main__.Person'>\n",
      "this is a static method\n",
      "{}\n",
      "{'__module__': '__main__', 'eat2': <function Person.eat2 at 0x107593640>, 'leifangfa': <classmethod(<function Person.leifangfa at 0x107591ea0>)>, 'jingtaifangfa': <staticmethod(<function Person.jingtaifangfa at 0x107591b40>)>, '__dict__': <attribute '__dict__' of 'Person' objects>, '__weakref__': <attribute '__weakref__' of 'Person' objects>, '__doc__': None}\n"
     ]
    }
   ],
   "source": [
    "# method\n",
    "# different methods are based the first parameter that a method takes\n",
    "# self or cls or nothing\n",
    "class Person:\n",
    "    def eat2(self):\n",
    "        print(\"this is a object method\", self)\n",
    "        \n",
    "    @classmethod\n",
    "    def leifangfa(cls):\n",
    "        print(\"this is a class method\", cls)\n",
    "        \n",
    "    @staticmethod\n",
    "    def jingtaifangfa():\n",
    "        print(\"this is a static method\")\n",
    "        \n",
    "\n",
    "p = Person()\n",
    "print(p)\n",
    "\n",
    "p.eat2()\n",
    "Person.leifangfa()\n",
    "Person.jingtaifangfa()\n",
    "\n",
    "print(p.__dict__)\n",
    "# 虽然是实例方法但是仍然是存储在类中的\n",
    "print(Person.__dict__)"
   ]
  },
  {
   "cell_type": "code",
   "execution_count": 81,
   "id": "fa52a8c2",
   "metadata": {},
   "outputs": [
    {
     "name": "stdout",
     "output_type": "stream",
     "text": [
      "eating <__main__.Person object at 0x1100cf220> my_food\n",
      "<function Person.eat at 0x107591360>\n",
      "eating 123 my_food\n",
      "eat3\n",
      "eating 123 123\n",
      "eat3\n"
     ]
    }
   ],
   "source": [
    "# 实例方法\n",
    "class Person:\n",
    "    def eat(self, food):\n",
    "        # 虽然有两个参数但是默认会把object本身传递给第一个\n",
    "        print(\"eating\", self, food)\n",
    "        \n",
    "    def eat2():\n",
    "        # 如果你在定义实例方法的时候不传递任何参数，那么在通过实例调用的时候会报错\n",
    "        # 但仍然可以使用类调用或者间接调用\n",
    "        print(\"eat3\")\n",
    "        \n",
    "p = Person()\n",
    "p.eat('my_food')\n",
    "\n",
    "print(Person.eat)\n",
    "# 方法本身就是个函数，所以可以有其他的调用方法\n",
    "# 类调用\n",
    "Person.eat(123, 'my_food')\n",
    "Person.eat2()\n",
    "# self本质就是个参数，没有什么特别的\n",
    "\n",
    "# 间接调用\n",
    "func = Person.eat\n",
    "func(123, 123)\n",
    "# 由于间接调用无法确定一个实例所以要传两个参数\n",
    "func2 = Person.eat2\n",
    "func2()"
   ]
  },
  {
   "cell_type": "code",
   "execution_count": 84,
   "id": "175182bc",
   "metadata": {},
   "outputs": [
    {
     "name": "stdout",
     "output_type": "stream",
     "text": [
      "这是一个类方法\n",
      "<class '__main__.Person'>\n",
      "123\n",
      "这是一个类方法\n",
      "<class '__main__.Person'>\n",
      "123\n",
      "这是一个类方法\n",
      "<class '__main__.Person'>\n",
      "123\n"
     ]
    }
   ],
   "source": [
    "# 类方法\n",
    "class Person:\n",
    "    @classmethod\n",
    "    def leifangfa(cls, a):\n",
    "        # 需要一个装饰器，默认把class传递给第一个参数\n",
    "        print(\"这是一个类方法\")\n",
    "        print(cls)\n",
    "        print(a)\n",
    "\n",
    "\n",
    "# 标准调用\n",
    "Person.leifangfa(123)\n",
    "# 123 传递给了a\n",
    "\n",
    "# 通过class创建的实例进行调用，和通过实例访问类属性一样是通过__class__\n",
    "p = Person()\n",
    "p.leifangfa(123)\n",
    "# 第一个参数仍然是所在的类\n",
    "\n",
    "# 间接调用\n",
    "# 和实例方法一样，本质上就是个函数\n",
    "# 但由于可以确定一个类对象，所以只需要传递一个参数\n",
    "func = Person.leifangfa\n",
    "func(123)\n"
   ]
  },
  {
   "cell_type": "code",
   "execution_count": 93,
   "id": "699a957e",
   "metadata": {},
   "outputs": [
    {
     "name": "stdout",
     "output_type": "stream",
     "text": [
      "这是一个静态方法\n",
      "这是一个静态方法\n",
      "这是一个静态方法\n",
      "这是一个静态方法\n"
     ]
    }
   ],
   "source": [
    "# 静态方法\n",
    "class Person:\n",
    "    @staticmethod\n",
    "    def jingtai():\n",
    "        print(\"这是一个静态方法\")\n",
    "        \n",
    "        \n",
    "# 标准调用可以使用实例或者类\n",
    "Person.jingtai()\n",
    "p = Person()\n",
    "p.jingtai()\n",
    "\n",
    "# 同样可以使用间接调用\n",
    "func = Person.jingtai\n",
    "func2 = p.jingtai\n",
    "func()\n",
    "func2()\n"
   ]
  },
  {
   "cell_type": "code",
   "execution_count": 11,
   "id": "3745a29a",
   "metadata": {},
   "outputs": [],
   "source": [
    "# 不同方法能访问到的属性有区别\n",
    "# 逻辑与该属性能如何被访问的逻辑一致\n",
    "class Person:\n",
    "    age = 0\n",
    "    def shilifangfa(self):\n",
    "        print(self)\n",
    "        print(self.age)\n",
    "        print(self.num)\n",
    "        # 因为实例方法传递的是self实例，所以也可以通过__class__获取到类属性\n",
    "    \n",
    "    @classmethod\n",
    "    def leishuxing(cls):\n",
    "        print(cls)\n",
    "        print(cls.age)\n",
    "        # 因为传递的是cls，只能访问到类属性\n",
    "        # 即使强制传递一个实例，最终有效的也是这个实例对应的类\n",
    "    \n",
    "    @staticmethod\n",
    "    def jingtaifangfa():\n",
    "        print(Person.age)\n",
    "        # 因为需要使用类或者实例调用，最终只能访问到类属性\n",
    "        # 但使用静态方法的初衷是我们不会在这个方法中用到cls或者self\n"
   ]
  }
 ],
 "metadata": {
  "kernelspec": {
   "display_name": "Python 3 (ipykernel)",
   "language": "python",
   "name": "python3"
  },
  "language_info": {
   "codemirror_mode": {
    "name": "ipython",
    "version": 3
   },
   "file_extension": ".py",
   "mimetype": "text/x-python",
   "name": "python",
   "nbconvert_exporter": "python",
   "pygments_lexer": "ipython3",
   "version": "3.10.0"
  }
 },
 "nbformat": 4,
 "nbformat_minor": 5
}

{
 "cells": [
  {
   "cell_type": "code",
   "execution_count": 1,
   "id": "21bae807",
   "metadata": {},
   "outputs": [],
   "source": [
    "# define a class\n",
    "class Person:\n",
    "    pass"
   ]
  },
  {
   "cell_type": "code",
   "execution_count": 2,
   "id": "8b7ccc3b",
   "metadata": {},
   "outputs": [
    {
     "name": "stdout",
     "output_type": "stream",
     "text": [
      "4822659552\n",
      "Person has been replaced\n",
      "4396942240\n",
      "<class '__main__.Person'>\n"
     ]
    }
   ],
   "source": [
    "# Perosn is a class name and also a variable name\n",
    "print(id(Person))\n",
    "\n",
    "p1 = Person()\n",
    "Person = \"Person has been replaced\"\n",
    "\n",
    "print(Person)\n",
    "print(id(Person))\n",
    "print(p1.__class__)\n",
    "\n",
    "class Person:\n",
    "    pass"
   ]
  },
  {
   "cell_type": "code",
   "execution_count": 3,
   "id": "43305639",
   "metadata": {},
   "outputs": [
    {
     "name": "stdout",
     "output_type": "stream",
     "text": [
      "4344333072\n",
      "4344333072\n",
      "4396872832\n",
      "4396871424\n",
      "---\n",
      "4344333136\n",
      "4344333072\n",
      "4396872832\n",
      "4396871424\n"
     ]
    }
   ],
   "source": [
    "# set object attribute\n",
    "p = Person()\n",
    "p.age = 18\n",
    "p.list = [1, 2]\n",
    "test = 18\n",
    "test_list = [1, 2]\n",
    "\n",
    "print(id(p.age))\n",
    "print(id(test))\n",
    "print(id(p.list))\n",
    "print(id(test_list))\n",
    "print('---')\n",
    "\n",
    "p.age = 20\n",
    "p.list.append(3)\n",
    "print(id(p.age))\n",
    "print(id(test))\n",
    "print(id(p.list))\n",
    "print(id(test_list))"
   ]
  },
  {
   "cell_type": "code",
   "execution_count": 4,
   "id": "efb4b7ef",
   "metadata": {},
   "outputs": [],
   "source": [
    "# set class attribute\n",
    "class Person:\n",
    "    age = 20\n",
    "    count = 1\n",
    "    num = 666\n",
    "\n",
    "Person.count = 1"
   ]
  },
  {
   "cell_type": "code",
   "execution_count": 5,
   "id": "7ead44ce",
   "metadata": {},
   "outputs": [
    {
     "name": "stdout",
     "output_type": "stream",
     "text": [
      "{'age': 20, 'list': [1, 2, 3]}\n",
      "{'__module__': '__main__', 'age': 20, 'count': 1, 'num': 666, '__dict__': <attribute '__dict__' of 'Person' objects>, '__weakref__': <attribute '__weakref__' of 'Person' objects>, '__doc__': None}\n"
     ]
    }
   ],
   "source": [
    "# __dict__\n",
    "print(p.__dict__)\n",
    "print(Person.__dict__)"
   ]
  },
  {
   "cell_type": "code",
   "execution_count": 6,
   "id": "56f1229a",
   "metadata": {},
   "outputs": [
    {
     "name": "stdout",
     "output_type": "stream",
     "text": [
      "20\n",
      "10\n",
      "30\n"
     ]
    }
   ],
   "source": [
    "# add attrributes by modifying the object __dict__\n",
    "class Person:\n",
    "    pass\n",
    "\n",
    "p = Person()\n",
    "p.__dict__ = {'age': 20, 'height': 10}\n",
    "p.__dict__['count'] = 30\n",
    "print(p.age)\n",
    "print(p.height)\n",
    "print(p.count)\n",
    "# but not avavilable for class.__dict__"
   ]
  },
  {
   "cell_type": "code",
   "execution_count": 7,
   "id": "05f103a4",
   "metadata": {},
   "outputs": [
    {
     "name": "stdout",
     "output_type": "stream",
     "text": [
      "{'age': 20, 'height': 10, 'count': 30, 'run': <function run at 0x1060f6200>}\n",
      "<function run at 0x1060f6200>\n"
     ]
    }
   ],
   "source": [
    "# __dict__ is just a dict that stores many key-value paries\n",
    "def run():\n",
    "    print(\"run\")\n",
    "\n",
    "p.__dict__['run'] = run\n",
    "print(p.__dict__)\n",
    "print(p.run)"
   ]
  },
  {
   "cell_type": "code",
   "execution_count": 8,
   "id": "de243e13",
   "metadata": {},
   "outputs": [
    {
     "ename": "AttributeError",
     "evalue": "'Person' object has no attribute 'num'",
     "output_type": "error",
     "traceback": [
      "\u001b[0;31m---------------------------------------------------------------------------\u001b[0m",
      "\u001b[0;31mAttributeError\u001b[0m                            Traceback (most recent call last)",
      "\u001b[1;32m/Users/jiananwang/pycharm_projects/oop/oop_basic.ipynb Cell 8\u001b[0m line \u001b[0;36m3\n\u001b[1;32m      <a href='vscode-notebook-cell:/Users/jiananwang/pycharm_projects/oop/oop_basic.ipynb#X10sZmlsZQ%3D%3D?line=0'>1</a>\u001b[0m \u001b[39m# an object can get class attribute through __class__\u001b[39;00m\n\u001b[1;32m      <a href='vscode-notebook-cell:/Users/jiananwang/pycharm_projects/oop/oop_basic.ipynb#X10sZmlsZQ%3D%3D?line=1'>2</a>\u001b[0m p \u001b[39m=\u001b[39m Person()\n\u001b[0;32m----> <a href='vscode-notebook-cell:/Users/jiananwang/pycharm_projects/oop/oop_basic.ipynb#X10sZmlsZQ%3D%3D?line=2'>3</a>\u001b[0m \u001b[39mprint\u001b[39m(p\u001b[39m.\u001b[39;49mnum)\n\u001b[1;32m      <a href='vscode-notebook-cell:/Users/jiananwang/pycharm_projects/oop/oop_basic.ipynb#X10sZmlsZQ%3D%3D?line=4'>5</a>\u001b[0m \u001b[39m# to further prove that, try modify __class__\u001b[39;00m\n\u001b[1;32m      <a href='vscode-notebook-cell:/Users/jiananwang/pycharm_projects/oop/oop_basic.ipynb#X10sZmlsZQ%3D%3D?line=5'>6</a>\u001b[0m \u001b[39mclass\u001b[39;00m \u001b[39mPerson_temp\u001b[39;00m:\n",
      "\u001b[0;31mAttributeError\u001b[0m: 'Person' object has no attribute 'num'"
     ]
    }
   ],
   "source": [
    "# an object can get class attribute through __class__\n",
    "p = Person()\n",
    "print(p.num)\n",
    "\n",
    "# to further prove that, try modify __class__\n",
    "class Person_temp:\n",
    "    num = 777\n",
    "\n",
    "p.__class__ = Person_temp\n",
    "print(p.num)"
   ]
  },
  {
   "cell_type": "code",
   "execution_count": null,
   "id": "578bd95d",
   "metadata": {},
   "outputs": [
    {
     "ename": "AttributeError",
     "evalue": "type object 'Person' has no attribute 'count'",
     "output_type": "error",
     "traceback": [
      "\u001b[0;31m---------------------------------------------------------------------------\u001b[0m",
      "\u001b[0;31mAttributeError\u001b[0m                            Traceback (most recent call last)",
      "Cell \u001b[0;32mIn [54], line 7\u001b[0m\n\u001b[1;32m      5\u001b[0m p \u001b[38;5;241m=\u001b[39m Person()\n\u001b[1;32m      6\u001b[0m p\u001b[38;5;241m.\u001b[39mcout \u001b[38;5;241m=\u001b[39m \u001b[38;5;241m10\u001b[39m\n\u001b[0;32m----> 7\u001b[0m \u001b[38;5;28mprint\u001b[39m(\u001b[43mPerson\u001b[49m\u001b[38;5;241;43m.\u001b[39;49m\u001b[43mcount\u001b[49m)\n\u001b[1;32m      8\u001b[0m \u001b[38;5;66;03m# you are effectively adding or modifying the object attribute\u001b[39;00m\n",
      "\u001b[0;31mAttributeError\u001b[0m: type object 'Person' has no attribute 'count'"
     ]
    }
   ],
   "source": [
    "# you can get the class attribute but cannot modify it through an object\n",
    "class Person:\n",
    "    pass\n",
    "\n",
    "p = Person()\n",
    "p.cout = 10\n",
    "print(Person.count)\n",
    "# you are effectively adding or modifying the object attribute"
   ]
  },
  {
   "cell_type": "code",
   "execution_count": null,
   "id": "42529585",
   "metadata": {},
   "outputs": [
    {
     "ename": "AttributeError",
     "evalue": "'Person' object attribute 'num' is read-only",
     "output_type": "error",
     "traceback": [
      "\u001b[0;31m---------------------------------------------------------------------------\u001b[0m",
      "\u001b[0;31mAttributeError\u001b[0m                            Traceback (most recent call last)",
      "Cell \u001b[0;32mIn [66], line 10\u001b[0m\n\u001b[1;32m      8\u001b[0m p1 \u001b[38;5;241m=\u001b[39m Person()\n\u001b[1;32m      9\u001b[0m p1\u001b[38;5;241m.\u001b[39mage \u001b[38;5;241m=\u001b[39m \u001b[38;5;241m10\u001b[39m\n\u001b[0;32m---> 10\u001b[0m \u001b[43mp1\u001b[49m\u001b[38;5;241;43m.\u001b[39;49m\u001b[43mnum\u001b[49m \u001b[38;5;241m=\u001b[39m \u001b[38;5;241m2\u001b[39m\n",
      "\u001b[0;31mAttributeError\u001b[0m: 'Person' object attribute 'num' is read-only"
     ]
    }
   ],
   "source": [
    "# __slots__ restrict what attribute can be created \n",
    "class Person:\n",
    "    num = 10\n",
    "    __slots__ = ['age']\n",
    "    pass\n",
    "\n",
    "\n",
    "p1 = Person()\n",
    "p1.age = 10\n",
    "p1.num = 2"
   ]
  },
  {
   "cell_type": "code",
   "execution_count": null,
   "id": "2b2d7ac6",
   "metadata": {},
   "outputs": [
    {
     "name": "stdout",
     "output_type": "stream",
     "text": [
      "<__main__.Person object at 0x1100ce5c0>\n",
      "this is a object method <__main__.Person object at 0x1100ce5c0>\n",
      "this is a class method <class '__main__.Person'>\n",
      "this is a static method\n",
      "{}\n",
      "{'__module__': '__main__', 'eat2': <function Person.eat2 at 0x107593640>, 'leifangfa': <classmethod(<function Person.leifangfa at 0x107591ea0>)>, 'jingtaifangfa': <staticmethod(<function Person.jingtaifangfa at 0x107591b40>)>, '__dict__': <attribute '__dict__' of 'Person' objects>, '__weakref__': <attribute '__weakref__' of 'Person' objects>, '__doc__': None}\n"
     ]
    }
   ],
   "source": [
    "# method\n",
    "# different methods are based the first parameter that a method takes\n",
    "# self or cls or nothing\n",
    "class Person:\n",
    "    def eat2(self):\n",
    "        print(\"this is a object method\", self)\n",
    "        \n",
    "    @classmethod\n",
    "    def leifangfa(cls):\n",
    "        print(\"this is a class method\", cls)\n",
    "        \n",
    "    @staticmethod\n",
    "    def jingtaifangfa():\n",
    "        print(\"this is a static method\")\n",
    "        \n",
    "\n",
    "p = Person()\n",
    "print(p)\n",
    "\n",
    "p.eat2()\n",
    "Person.leifangfa()\n",
    "Person.jingtaifangfa()\n",
    "\n",
    "print(p.__dict__)\n",
    "# 虽然是实例方法但是仍然是存储在类中的\n",
    "print(Person.__dict__)"
   ]
  },
  {
   "cell_type": "code",
   "execution_count": null,
   "id": "fa52a8c2",
   "metadata": {},
   "outputs": [
    {
     "name": "stdout",
     "output_type": "stream",
     "text": [
      "eating <__main__.Person object at 0x1100cf220> my_food\n",
      "<function Person.eat at 0x107591360>\n",
      "eating 123 my_food\n",
      "eat3\n",
      "eating 123 123\n",
      "eat3\n"
     ]
    }
   ],
   "source": [
    "# 实例方法\n",
    "class Person:\n",
    "    def eat(self, food):\n",
    "        # 虽然有两个参数但是默认会把object本身传递给第一个\n",
    "        print(\"eating\", self, food)\n",
    "        \n",
    "    def eat2():\n",
    "        # 如果你在定义实例方法的时候不传递任何参数，那么在通过实例调用的时候会报错\n",
    "        # 但仍然可以使用类调用或者间接调用\n",
    "        print(\"eat3\")\n",
    "        \n",
    "p = Person()\n",
    "p.eat('my_food')\n",
    "\n",
    "print(Person.eat)\n",
    "# 方法本身就是个函数，所以可以有其他的调用方法\n",
    "# 类调用\n",
    "Person.eat(123, 'my_food')\n",
    "Person.eat2()\n",
    "# self本质就是个参数，没有什么特别的\n",
    "\n",
    "# 间接调用\n",
    "func = Person.eat\n",
    "func(123, 123)\n",
    "# 由于间接调用无法确定一个实例所以要传两个参数\n",
    "func2 = Person.eat2\n",
    "func2()"
   ]
  },
  {
   "cell_type": "code",
   "execution_count": null,
   "id": "175182bc",
   "metadata": {},
   "outputs": [
    {
     "name": "stdout",
     "output_type": "stream",
     "text": [
      "这是一个类方法\n",
      "<class '__main__.Person'>\n",
      "123\n",
      "这是一个类方法\n",
      "<class '__main__.Person'>\n",
      "123\n",
      "这是一个类方法\n",
      "<class '__main__.Person'>\n",
      "123\n"
     ]
    }
   ],
   "source": [
    "# 类方法\n",
    "class Person:\n",
    "    @classmethod\n",
    "    def leifangfa(cls, a):\n",
    "        # 需要一个装饰器，默认把class传递给第一个参数\n",
    "        print(\"这是一个类方法\")\n",
    "        print(cls)\n",
    "        print(a)\n",
    "\n",
    "\n",
    "# 标准调用\n",
    "Person.leifangfa(123)\n",
    "# 123 传递给了a\n",
    "\n",
    "# 通过class创建的实例进行调用，和通过实例访问类属性一样是通过__class__\n",
    "p = Person()\n",
    "p.leifangfa(123)\n",
    "# 第一个参数仍然是所在的类\n",
    "\n",
    "# 间接调用\n",
    "# 和实例方法一样，本质上就是个函数\n",
    "# 但由于可以确定一个类对象，所以只需要传递一个参数\n",
    "func = Person.leifangfa\n",
    "func(123)\n"
   ]
  },
  {
   "cell_type": "code",
   "execution_count": null,
   "id": "699a957e",
   "metadata": {},
   "outputs": [
    {
     "name": "stdout",
     "output_type": "stream",
     "text": [
      "这是一个静态方法\n",
      "这是一个静态方法\n",
      "这是一个静态方法\n",
      "这是一个静态方法\n"
     ]
    }
   ],
   "source": [
    "# 静态方法\n",
    "class Person:\n",
    "    @staticmethod\n",
    "    def jingtai():\n",
    "        print(\"这是一个静态方法\")\n",
    "        \n",
    "        \n",
    "# 标准调用可以使用实例或者类\n",
    "Person.jingtai()\n",
    "p = Person()\n",
    "p.jingtai()\n",
    "\n",
    "# 同样可以使用间接调用\n",
    "func = Person.jingtai\n",
    "func2 = p.jingtai\n",
    "func()\n",
    "func2()\n"
   ]
  },
  {
   "cell_type": "code",
   "execution_count": null,
   "id": "3745a29a",
   "metadata": {},
   "outputs": [],
   "source": [
    "# 不同方法能访问到的属性有区别\n",
    "# 逻辑与该属性能如何被访问的逻辑一致\n",
    "class Person:\n",
    "    age = 0\n",
    "    def shilifangfa(self):\n",
    "        print(self)\n",
    "        print(self.age)\n",
    "        print(self.num)\n",
    "        # 因为实例方法传递的是self实例，所以也可以通过__class__获取到类属性\n",
    "    \n",
    "    @classmethod\n",
    "    def leishuxing(cls):\n",
    "        print(cls)\n",
    "        print(cls.age)\n",
    "        # 因为传递的是cls，只能访问到类属性\n",
    "        # 即使强制传递一个实例，最终有效的也是这个实例对应的类\n",
    "    \n",
    "    @staticmethod\n",
    "    def jingtaifangfa():\n",
    "        print(Person.age)\n",
    "        # 因为需要使用类或者实例调用，最终只能访问到类属性\n",
    "        # 但使用静态方法的初衷是我们不会在这个方法中用到cls或者self\n"
   ]
  },
  {
   "cell_type": "code",
   "execution_count": 9,
   "id": "9fdcbb94",
   "metadata": {},
   "outputs": [
    {
     "name": "stdout",
     "output_type": "stream",
     "text": [
      "<class 'int'>\n",
      "<class 'type'>\n"
     ]
    }
   ],
   "source": [
    "# 元类 __metaclass__\n",
    "# 类本身也是一个对象，所以本质上也是由另外一额类对象创建的\n",
    "num = 10\n",
    "print(num.__class__)\n",
    "print(num.__class__.__class__)"
   ]
  },
  {
   "cell_type": "code",
   "execution_count": 11,
   "id": "bf9f14fa",
   "metadata": {},
   "outputs": [
    {
     "name": "stdout",
     "output_type": "stream",
     "text": [
      "<class '__main__.Dog'>\n",
      "{'count': 0, 'run': <function run at 0x1060f6200>, '__module__': '__main__', '__dict__': <attribute '__dict__' of 'Dog' objects>, '__weakref__': <attribute '__weakref__' of 'Dog' objects>, '__doc__': None}\n",
      "0\n"
     ]
    }
   ],
   "source": [
    "# 动态创建类对象\n",
    "def run(self):\n",
    "    print(self)\n",
    "\n",
    "\n",
    "type(\"Dog\", (), {\"count\": 0, \"run\": run})\n",
    "# 如果这么写我们只是在内存中创建了一个类对象，但是没有一个变量名指向这个类对象\n",
    "\n",
    "Dog = type(\"Dog\", (), {\"count\": 0, \"run\": run})\n",
    "# 此时Dog既是变量名也是类名，如标准创建类的流程一致\n",
    "\n",
    "print(Dog)\n",
    "print(Dog.__dict__)\n",
    "d = Dog()\n",
    "print(d.count)"
   ]
  },
  {
   "cell_type": "code",
   "execution_count": null,
   "id": "a236e046",
   "metadata": {},
   "outputs": [],
   "source": [
    "# 创建类对象是元类的查找机制\n",
    "# 类对象的__metaclass__属性 \n",
    "# --> 父类的__metaclass__ \n",
    "# --> 模块定义的__metaclass__\n",
    "# --> type\n",
    "\n",
    "# 注意区分“元类“和”父类“"
   ]
  },
  {
   "cell_type": "code",
   "execution_count": 12,
   "id": "e713e224",
   "metadata": {},
   "outputs": [
    {
     "name": "stdout",
     "output_type": "stream",
     "text": [
      "Help on class Person in module __main__:\n",
      "\n",
      "class Person(builtins.object)\n",
      " |  关于这个类的描述，类的作用，类的构造函数等\n",
      " |  \n",
      " |  Attributes:\n",
      " |      count: int 代表人的个数\n",
      " |  \n",
      " |  Methods defined here:\n",
      " |  \n",
      " |  run(self, distance, step)\n",
      " |      方法的作用效果\n",
      " |      :param distance: 参数的含义，类型，是否有默认值\n",
      " |      :param step:\n",
      " |      : retrun: 返回结果的含义、类型\n",
      " |  \n",
      " |  ----------------------------------------------------------------------\n",
      " |  Data descriptors defined here:\n",
      " |  \n",
      " |  __dict__\n",
      " |      dictionary for instance variables (if defined)\n",
      " |  \n",
      " |  __weakref__\n",
      " |      list of weak references to the object (if defined)\n",
      " |  \n",
      " |  ----------------------------------------------------------------------\n",
      " |  Data and other attributes defined here:\n",
      " |  \n",
      " |  count = 1\n",
      "\n"
     ]
    }
   ],
   "source": [
    "# 类的文档\n",
    "class Person:\n",
    "    \"\"\"\n",
    "    关于这个类的描述，类的作用，类的构造函数等\n",
    "\n",
    "    Attributes:\n",
    "        count: int 代表人的个数\n",
    "    \"\"\"\n",
    "\n",
    "    count = 1\n",
    "\n",
    "    def run(self, distance, step):\n",
    "        \"\"\"\n",
    "        方法的作用效果\n",
    "        :param distance: 参数的含义，类型，是否有默认值\n",
    "        :param step:\n",
    "        : retrun: 返回结果的含义、类型\n",
    "        \"\"\"\n",
    "        print(\"run\")\n",
    "        return distance / step\n",
    "\n",
    "\n",
    "def xxx():\n",
    "    \"\"\"\n",
    "    函数的描述\n",
    "    :return: 返回结果的含义、类型\n",
    "    \"\"\"    \n",
    "\n",
    "help(Person)\n",
    "\n",
    "# 或者使用pydoc内置模块\n",
    "# python3 -m pydoc <modelName>\n",
    "# python3 -m pydoc -p 6666\n",
    "# python3 0m pydoc -w <fileGeneratedName>"
   ]
  },
  {
   "cell_type": "code",
   "execution_count": null,
   "id": "0baf0a39",
   "metadata": {},
   "outputs": [],
   "source": [
    "# 私有化属性\n",
    "# python原生并不支持真正的私有属性，但可以使用_完成伪私有\n",
    "# 公有属性：类内部、子类内部、模块其他位置、import、from import * 都可以\n",
    "# _x: 类内部、子类内部、import 可以，模块其他位置、from import * 会提示或报错\n",
    "# __y: 类内部、import可以，其他位置会报错"
   ]
  },
  {
   "cell_type": "code",
   "execution_count": 13,
   "id": "fb4d2c03",
   "metadata": {},
   "outputs": [
    {
     "name": "stdout",
     "output_type": "stream",
     "text": [
      "{'__module__': '__main__', '_Animal__x': 10, 'test': <function Animal.test at 0x1060f5ea0>, '__dict__': <attribute '__dict__' of 'Animal' objects>, '__weakref__': <attribute '__weakref__' of 'Animal' objects>, '__doc__': None}\n",
      "10\n"
     ]
    }
   ],
   "source": [
    "# 私有属性的实现\n",
    "# 名字重整机制（Name Mangling)\n",
    "# __x --> _class__x\n",
    "\n",
    "class Animal:\n",
    "    __x = 10\n",
    "    def test(self):\n",
    "        print(Animal.__x)\n",
    "        print(self.__x)\n",
    "\n",
    "\n",
    "print(Animal.__dict__)\n",
    "print(Animal._Animal__x)"
   ]
  },
  {
   "cell_type": "code",
   "execution_count": 15,
   "id": "737d7eb9",
   "metadata": {},
   "outputs": [],
   "source": [
    "# python原生并不支持真正的私有属性\n",
    "# 所以私有属性并不安全\n",
    "\n",
    "class Animal:\n",
    "    def __init__(self) -> None:\n",
    "        self.__x = 10\n",
    "\n",
    "\n",
    "a = Animal()\n",
    "# print(a.__x)\n",
    "# error\n",
    "# a.__x = 20\n",
    "# error\n",
    "\n",
    "a._Animal__x = 20\n",
    "# can!\n",
    "a.__dict__['_Animal__x'] = 30\n",
    "# also can"
   ]
  },
  {
   "cell_type": "code",
   "execution_count": 16,
   "id": "286b2996",
   "metadata": {},
   "outputs": [
    {
     "name": "stdout",
     "output_type": "stream",
     "text": [
      "20\n"
     ]
    }
   ],
   "source": [
    "# __init__\n",
    "# 当我们创建一个对象后会自动调用类中的__init__方法\n",
    "\n",
    "class Person:\n",
    "    def __init__(self) -> None:\n",
    "        self.__age = 10\n",
    "    \n",
    "    def setAge(self, value):\n",
    "        if isinstance(value, int) and 0 < value < 200:\n",
    "            self.__age = value\n",
    "        else:\n",
    "            print(\"value error\")\n",
    "    \n",
    "    def getAge(self):\n",
    "        return self.__age\n",
    "    # 暴露接口而不是让外界可以直接碰属性\n",
    "\n",
    "\n",
    "p1 = Person()\n",
    "p1.setAge(20)\n",
    "print(p1.getAge())\n"
   ]
  },
  {
   "cell_type": "code",
   "execution_count": 19,
   "id": "8dea1796",
   "metadata": {},
   "outputs": [
    {
     "name": "stdout",
     "output_type": "stream",
     "text": [
      "18\n"
     ]
    }
   ],
   "source": [
    "# 只读属性\n",
    "# 1. 通过私有属性实现（通过接口只公开读的操作）\n",
    "class Person:\n",
    "    def __init__(self) -> None:\n",
    "        self.__age = 10\n",
    "\n",
    "    def getAge(self):\n",
    "        return self.__age\n",
    "\n",
    "# 但有两个问题\n",
    "# 1. 不能保留原始的读取实例属性的方式（object.attribute)\n",
    "# 2. 外界强制赋值的时候不会报错(object.age = 10)\n",
    "\n",
    "# 使用@property装饰器进行优化\n",
    "# @property允许以使用属性的方式调用方法，强制赋值的时候也会报错\n",
    "class Person(object):\n",
    "    # 在使用@property的时候确保类继承自object\n",
    "    def __init__(self) -> None:\n",
    "        self.__age = 18\n",
    "    \n",
    "    @property\n",
    "    def age(self):\n",
    "        return self.__age\n",
    "    # 此时 age 还是一个方法但是可以通过调用属性的方式进行调用\n",
    "\n",
    "p1 = Person()\n",
    "print(p1.age)\n",
    "\n",
    "# 使用@property装饰器仍然无法避免直接修改名字重整的变量名的方式修改变量\n",
    "# 或者\n",
    "# 直接修改object.__dict__键值对的方式修改秀有属性"
   ]
  },
  {
   "cell_type": "code",
   "execution_count": 20,
   "id": "1c86d0bb",
   "metadata": {},
   "outputs": [],
   "source": [
    "# 只读属性\n",
    "# 2. 使用__setattr__\n",
    "\n",
    "# __setattr__\n",
    "# 当我们通过object.attribute = value的方式添加或修改一个属性的时候，系统内部都会调用__setattr__方法\n",
    "# 只有通过这个方法才会讲属性和值作为键值对存储到__dict__中\n",
    "# 我们可以修改__setattr__的工作方式实现属性只读\n",
    "\n",
    "# 但我们仍然无法防止外界直接使用__dict__修改键值对\n",
    "# 因为无论如何属性最终都要进入到__dict__才能生效\n",
    "\n",
    "from typing import Any\n",
    "\n",
    "\n",
    "class Person:\n",
    "    def __setattr__(self, __name: str, __value: Any) -> None:\n",
    "        if __name == \"age\" and __name in self.__dict__.keys():\n",
    "            # 要判断一下是修改还是初始化，只允许初始化，否则属性永远无法被添加\n",
    "            print(\"this is a read only attrbute\")\n",
    "        else:\n",
    "            self.__dict__[__name] = __value\n",
    "            # 要使用修改字典的方式添加新的属性，不能使用object.attribute = value\n",
    "            # 否则会重新调用__setattr__,陷入死循环\n",
    "    "
   ]
  },
  {
   "cell_type": "code",
   "execution_count": 24,
   "id": "dab5f9cf",
   "metadata": {},
   "outputs": [
    {
     "name": "stdout",
     "output_type": "stream",
     "text": [
      "<class 'object'>\n",
      "<class 'type'>\n"
     ]
    }
   ],
   "source": [
    "# 经典类和新式类\n",
    "# 经典类：没有继承自object的类\n",
    "# 新式类：继承自obejct的类\n",
    "# 在python3中定义一个类时，默认继承自object\n",
    "\n",
    "class Person:\n",
    "    pass\n",
    "\n",
    "\n",
    "print(Person.__base__)\n",
    "print(Person.__class__.__class__)"
   ]
  },
  {
   "cell_type": "code",
   "execution_count": 25,
   "id": "1e4a3182",
   "metadata": {},
   "outputs": [
    {
     "name": "stdout",
     "output_type": "stream",
     "text": [
      "--- get\n",
      "18\n",
      "--- set\n",
      "--- get\n",
      "99\n",
      "{'_Person__age': 99}\n"
     ]
    }
   ],
   "source": [
    "# more about @property\n",
    "# 使用方法1\n",
    "class Person(object):\n",
    "    def __init__(self) -> None:\n",
    "        self.__age = 18\n",
    "\n",
    "    def get_age(self):\n",
    "        print(\"--- get\")\n",
    "        return self.__age\n",
    "    \n",
    "    def set_age(self, value):\n",
    "        print(\"--- set\")\n",
    "        self.__age = value\n",
    "    \n",
    "    age = property(get_age, set_age)\n",
    "    # property function return an attribute and assign the value to age\n",
    "    # 当外界读取age值的时候会调用property函数的第一个参数\n",
    "    # 当外界设置age值的时候会调用property函数的第二个参数\n",
    "    # 还有del等\n",
    "\n",
    "\n",
    "p = Person()\n",
    "print(p.age)\n",
    "p.age = 99\n",
    "print(p.age)\n",
    "\n",
    "print(p.__dict__)"
   ]
  },
  {
   "cell_type": "code",
   "execution_count": 26,
   "id": "c99c32f8",
   "metadata": {},
   "outputs": [
    {
     "name": "stdout",
     "output_type": "stream",
     "text": [
      "--- get\n",
      "18\n",
      "--- set\n",
      "--- get\n",
      "10\n"
     ]
    }
   ],
   "source": [
    "# more about @property\n",
    "# 使用方法2\n",
    "class Person(object):\n",
    "    def __init__(self) -> None:\n",
    "        self.__age = 18\n",
    "    \n",
    "    @property\n",
    "    def age(self):\n",
    "        print(\"--- get\")\n",
    "        return self.__age\n",
    "    # 本质上这里设置的是property function的第一个参数\n",
    "\n",
    "    @age.setter\n",
    "    def age(self, value):\n",
    "        print(\"--- set\")\n",
    "        self.__age = value\n",
    "\n",
    "\n",
    "p = Person()\n",
    "print(p.age)\n",
    "\n",
    "p.age = 10\n",
    "print(p.age)\n"
   ]
  },
  {
   "cell_type": "code",
   "execution_count": null,
   "id": "b02a1812",
   "metadata": {},
   "outputs": [],
   "source": []
  },
  {
   "cell_type": "code",
   "execution_count": null,
   "id": "5b361a67",
   "metadata": {},
   "outputs": [],
   "source": []
  },
  {
   "cell_type": "code",
   "execution_count": null,
   "id": "ce7133e1",
   "metadata": {},
   "outputs": [],
   "source": []
  },
  {
   "cell_type": "code",
   "execution_count": null,
   "id": "fc2d2365",
   "metadata": {},
   "outputs": [],
   "source": []
  },
  {
   "cell_type": "code",
   "execution_count": null,
   "id": "4d10df64",
   "metadata": {},
   "outputs": [],
   "source": []
  },
  {
   "cell_type": "code",
   "execution_count": null,
   "id": "05c2ff52",
   "metadata": {},
   "outputs": [],
   "source": []
  },
  {
   "cell_type": "code",
   "execution_count": null,
   "id": "19e927d8",
   "metadata": {},
   "outputs": [],
   "source": []
  }
 ],
 "metadata": {
  "kernelspec": {
   "display_name": "Python 3 (ipykernel)",
   "language": "python",
   "name": "python3"
  },
  "language_info": {
   "codemirror_mode": {
    "name": "ipython",
    "version": 3
   },
   "file_extension": ".py",
   "mimetype": "text/x-python",
   "name": "python",
   "nbconvert_exporter": "python",
   "pygments_lexer": "ipython3",
   "version": "3.10.0"
  }
 },
 "nbformat": 4,
 "nbformat_minor": 5
}
